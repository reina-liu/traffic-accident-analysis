{
  "cells": [
    {
      "cell_type": "markdown",
      "metadata": {
        "id": "u4SmcW_7YndD"
      },
      "source": [
        "# Traffic Accidents Predictive Analysis of Canada\n",
        "\n",
        "Traffic accident refers to an event in which a vehicle causes personal injury or \n",
        "property damage due to fault or accident on the road. Every year, around 1.3 million \n",
        "people around the world end their lives as a result of road traffic accidents. Another \n",
        "20 million to 50 million people suffered non-fatal injuries, many of them disabled as a \n",
        "result. Road traffic injuries take a huge economic toll on individuals, families and \n",
        "entire nations. These losses include the cost of treatment of the dead and injured, as \n",
        "well as the lost workforce of the deceased and the disabled due to injuries. However, \n",
        "road traffic injuries can be controlled through reasonable analysis and measures.\n",
        "\n",
        "\n",
        "The purpose of this project is to enhance traffic safety policy, reduce the risk of \n",
        "traffic accidents through the study of risk factors. "
      ]
    },
    {
      "cell_type": "markdown",
      "metadata": {
        "id": "5j7jDOuHY3GS"
      },
      "source": [
        "# Import Dataset and Library"
      ]
    },
    {
      "cell_type": "code",
      "execution_count": 2,
      "metadata": {
        "colab": {
          "base_uri": "https://localhost:8080/",
          "height": 76,
          "resources": {
            "http://localhost:8080/nbextensions/google.colab/files.js": {
              "data": "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",
              "headers": [
                [
                  "content-type",
                  "application/javascript"
                ]
              ],
              "ok": true,
              "status": 200,
              "status_text": ""
            }
          }
        },
        "id": "GLUul_xUnJn3",
        "outputId": "ac57062d-949d-4c48-a6c3-0652f6696f6f"
      },
      "outputs": [
        {
          "output_type": "display_data",
          "data": {
            "text/plain": [
              "<IPython.core.display.HTML object>"
            ],
            "text/html": [
              "\n",
              "     <input type=\"file\" id=\"files-66512e7d-c57a-4e07-864e-b9cfa308c121\" name=\"files[]\" multiple disabled\n",
              "        style=\"border:none\" />\n",
              "     <output id=\"result-66512e7d-c57a-4e07-864e-b9cfa308c121\">\n",
              "      Upload widget is only available when the cell has been executed in the\n",
              "      current browser session. Please rerun this cell to enable.\n",
              "      </output>\n",
              "      <script src=\"/nbextensions/google.colab/files.js\"></script> "
            ]
          },
          "metadata": {}
        },
        {
          "output_type": "stream",
          "name": "stdout",
          "text": [
            "Saving test99_to_2019_dataset.csv to test99_to_2019_dataset.csv\n"
          ]
        }
      ],
      "source": [
        "from google.colab import files\n",
        "uploaded = files.upload()  #upload dataset from local"
      ]
    },
    {
      "cell_type": "code",
      "execution_count": 100,
      "metadata": {
        "id": "ovV8dF52DQAm",
        "colab": {
          "base_uri": "https://localhost:8080/"
        },
        "outputId": "d10ad8ac-40da-45c6-b49c-c650792b7224"
      },
      "outputs": [
        {
          "output_type": "stream",
          "name": "stderr",
          "text": [
            "/usr/local/lib/python3.7/dist-packages/IPython/core/interactiveshell.py:2882: DtypeWarning: Columns (1,2,5,12) have mixed types.Specify dtype option on import or set low_memory=False.\n",
            "  exec(code_obj, self.user_global_ns, self.user_ns)\n"
          ]
        }
      ],
      "source": [
        "# Importing tools and writing data to dataframe\n",
        "import numpy as np\n",
        "import pandas as pd\n",
        "from datetime import datetime\n",
        "from matplotlib import pyplot as plt\n",
        "\n",
        "from pandas.plotting import register_matplotlib_converters\n",
        "register_matplotlib_converters()\n",
        "\n",
        "data = pd.read_csv(r'test99_to_2019_dataset.csv')"
      ]
    },
    {
      "cell_type": "code",
      "execution_count": 28,
      "metadata": {
        "id": "cFE-PC8owTUO",
        "colab": {
          "base_uri": "https://localhost:8080/",
          "height": 236
        },
        "outputId": "013f5ddb-fb86-49fe-b630-c5213213517f"
      },
      "outputs": [
        {
          "output_type": "execute_result",
          "data": {
            "text/plain": [
              "         C_YEAR C_MNTH C_WDAY C_HOUR  C_SEV C_VEHS C_CONF C_RCFG C_WTHR  \\\n",
              "1048571  2001.0      7      5     15    2.0      2     36      2      1   \n",
              "1048572  2001.0      7      5     16    2.0      2     35      1      1   \n",
              "1048573  2001.0      7      5     16    2.0      2     35      1      1   \n",
              "1048574  2001.0      7      5     16    2.0      2     35      1      1   \n",
              "1048575  2001.0      7      5     11    2.0      2     21      1      1   \n",
              "\n",
              "        C_RSUR  ... V_TYPE V_YEAR P_ID P_SEX P_AGE P_PSN P_ISEV P_SAFE P_USER  \\\n",
              "1048571      1  ...      1   1994    2     M    23    13      1      2      2   \n",
              "1048572      1  ...      1   1994    1     M    49    11      1      2      1   \n",
              "1048573      1  ...      1   1994    2     M    40    13      1      2      2   \n",
              "1048574      1  ...     14   1983    1     F    33    11      2      9      5   \n",
              "1048575      1  ...      1   1997    1     F    46    11      1      2      1   \n",
              "\n",
              "           C_CASE  \n",
              "1048571  377934.0  \n",
              "1048572  377935.0  \n",
              "1048573  377935.0  \n",
              "1048574  377935.0  \n",
              "1048575  377947.0  \n",
              "\n",
              "[5 rows x 23 columns]"
            ],
            "text/html": [
              "\n",
              "  <div id=\"df-47ece8a9-17e0-41ad-9f0d-aae5e0c93e40\">\n",
              "    <div class=\"colab-df-container\">\n",
              "      <div>\n",
              "<style scoped>\n",
              "    .dataframe tbody tr th:only-of-type {\n",
              "        vertical-align: middle;\n",
              "    }\n",
              "\n",
              "    .dataframe tbody tr th {\n",
              "        vertical-align: top;\n",
              "    }\n",
              "\n",
              "    .dataframe thead th {\n",
              "        text-align: right;\n",
              "    }\n",
              "</style>\n",
              "<table border=\"1\" class=\"dataframe\">\n",
              "  <thead>\n",
              "    <tr style=\"text-align: right;\">\n",
              "      <th></th>\n",
              "      <th>C_YEAR</th>\n",
              "      <th>C_MNTH</th>\n",
              "      <th>C_WDAY</th>\n",
              "      <th>C_HOUR</th>\n",
              "      <th>C_SEV</th>\n",
              "      <th>C_VEHS</th>\n",
              "      <th>C_CONF</th>\n",
              "      <th>C_RCFG</th>\n",
              "      <th>C_WTHR</th>\n",
              "      <th>C_RSUR</th>\n",
              "      <th>...</th>\n",
              "      <th>V_TYPE</th>\n",
              "      <th>V_YEAR</th>\n",
              "      <th>P_ID</th>\n",
              "      <th>P_SEX</th>\n",
              "      <th>P_AGE</th>\n",
              "      <th>P_PSN</th>\n",
              "      <th>P_ISEV</th>\n",
              "      <th>P_SAFE</th>\n",
              "      <th>P_USER</th>\n",
              "      <th>C_CASE</th>\n",
              "    </tr>\n",
              "  </thead>\n",
              "  <tbody>\n",
              "    <tr>\n",
              "      <th>1048571</th>\n",
              "      <td>2001.0</td>\n",
              "      <td>7</td>\n",
              "      <td>5</td>\n",
              "      <td>15</td>\n",
              "      <td>2.0</td>\n",
              "      <td>2</td>\n",
              "      <td>36</td>\n",
              "      <td>2</td>\n",
              "      <td>1</td>\n",
              "      <td>1</td>\n",
              "      <td>...</td>\n",
              "      <td>1</td>\n",
              "      <td>1994</td>\n",
              "      <td>2</td>\n",
              "      <td>M</td>\n",
              "      <td>23</td>\n",
              "      <td>13</td>\n",
              "      <td>1</td>\n",
              "      <td>2</td>\n",
              "      <td>2</td>\n",
              "      <td>377934.0</td>\n",
              "    </tr>\n",
              "    <tr>\n",
              "      <th>1048572</th>\n",
              "      <td>2001.0</td>\n",
              "      <td>7</td>\n",
              "      <td>5</td>\n",
              "      <td>16</td>\n",
              "      <td>2.0</td>\n",
              "      <td>2</td>\n",
              "      <td>35</td>\n",
              "      <td>1</td>\n",
              "      <td>1</td>\n",
              "      <td>1</td>\n",
              "      <td>...</td>\n",
              "      <td>1</td>\n",
              "      <td>1994</td>\n",
              "      <td>1</td>\n",
              "      <td>M</td>\n",
              "      <td>49</td>\n",
              "      <td>11</td>\n",
              "      <td>1</td>\n",
              "      <td>2</td>\n",
              "      <td>1</td>\n",
              "      <td>377935.0</td>\n",
              "    </tr>\n",
              "    <tr>\n",
              "      <th>1048573</th>\n",
              "      <td>2001.0</td>\n",
              "      <td>7</td>\n",
              "      <td>5</td>\n",
              "      <td>16</td>\n",
              "      <td>2.0</td>\n",
              "      <td>2</td>\n",
              "      <td>35</td>\n",
              "      <td>1</td>\n",
              "      <td>1</td>\n",
              "      <td>1</td>\n",
              "      <td>...</td>\n",
              "      <td>1</td>\n",
              "      <td>1994</td>\n",
              "      <td>2</td>\n",
              "      <td>M</td>\n",
              "      <td>40</td>\n",
              "      <td>13</td>\n",
              "      <td>1</td>\n",
              "      <td>2</td>\n",
              "      <td>2</td>\n",
              "      <td>377935.0</td>\n",
              "    </tr>\n",
              "    <tr>\n",
              "      <th>1048574</th>\n",
              "      <td>2001.0</td>\n",
              "      <td>7</td>\n",
              "      <td>5</td>\n",
              "      <td>16</td>\n",
              "      <td>2.0</td>\n",
              "      <td>2</td>\n",
              "      <td>35</td>\n",
              "      <td>1</td>\n",
              "      <td>1</td>\n",
              "      <td>1</td>\n",
              "      <td>...</td>\n",
              "      <td>14</td>\n",
              "      <td>1983</td>\n",
              "      <td>1</td>\n",
              "      <td>F</td>\n",
              "      <td>33</td>\n",
              "      <td>11</td>\n",
              "      <td>2</td>\n",
              "      <td>9</td>\n",
              "      <td>5</td>\n",
              "      <td>377935.0</td>\n",
              "    </tr>\n",
              "    <tr>\n",
              "      <th>1048575</th>\n",
              "      <td>2001.0</td>\n",
              "      <td>7</td>\n",
              "      <td>5</td>\n",
              "      <td>11</td>\n",
              "      <td>2.0</td>\n",
              "      <td>2</td>\n",
              "      <td>21</td>\n",
              "      <td>1</td>\n",
              "      <td>1</td>\n",
              "      <td>1</td>\n",
              "      <td>...</td>\n",
              "      <td>1</td>\n",
              "      <td>1997</td>\n",
              "      <td>1</td>\n",
              "      <td>F</td>\n",
              "      <td>46</td>\n",
              "      <td>11</td>\n",
              "      <td>1</td>\n",
              "      <td>2</td>\n",
              "      <td>1</td>\n",
              "      <td>377947.0</td>\n",
              "    </tr>\n",
              "  </tbody>\n",
              "</table>\n",
              "<p>5 rows × 23 columns</p>\n",
              "</div>\n",
              "      <button class=\"colab-df-convert\" onclick=\"convertToInteractive('df-47ece8a9-17e0-41ad-9f0d-aae5e0c93e40')\"\n",
              "              title=\"Convert this dataframe to an interactive table.\"\n",
              "              style=\"display:none;\">\n",
              "        \n",
              "  <svg xmlns=\"http://www.w3.org/2000/svg\" height=\"24px\"viewBox=\"0 0 24 24\"\n",
              "       width=\"24px\">\n",
              "    <path d=\"M0 0h24v24H0V0z\" fill=\"none\"/>\n",
              "    <path d=\"M18.56 5.44l.94 2.06.94-2.06 2.06-.94-2.06-.94-.94-2.06-.94 2.06-2.06.94zm-11 1L8.5 8.5l.94-2.06 2.06-.94-2.06-.94L8.5 2.5l-.94 2.06-2.06.94zm10 10l.94 2.06.94-2.06 2.06-.94-2.06-.94-.94-2.06-.94 2.06-2.06.94z\"/><path d=\"M17.41 7.96l-1.37-1.37c-.4-.4-.92-.59-1.43-.59-.52 0-1.04.2-1.43.59L10.3 9.45l-7.72 7.72c-.78.78-.78 2.05 0 2.83L4 21.41c.39.39.9.59 1.41.59.51 0 1.02-.2 1.41-.59l7.78-7.78 2.81-2.81c.8-.78.8-2.07 0-2.86zM5.41 20L4 18.59l7.72-7.72 1.47 1.35L5.41 20z\"/>\n",
              "  </svg>\n",
              "      </button>\n",
              "      \n",
              "  <style>\n",
              "    .colab-df-container {\n",
              "      display:flex;\n",
              "      flex-wrap:wrap;\n",
              "      gap: 12px;\n",
              "    }\n",
              "\n",
              "    .colab-df-convert {\n",
              "      background-color: #E8F0FE;\n",
              "      border: none;\n",
              "      border-radius: 50%;\n",
              "      cursor: pointer;\n",
              "      display: none;\n",
              "      fill: #1967D2;\n",
              "      height: 32px;\n",
              "      padding: 0 0 0 0;\n",
              "      width: 32px;\n",
              "    }\n",
              "\n",
              "    .colab-df-convert:hover {\n",
              "      background-color: #E2EBFA;\n",
              "      box-shadow: 0px 1px 2px rgba(60, 64, 67, 0.3), 0px 1px 3px 1px rgba(60, 64, 67, 0.15);\n",
              "      fill: #174EA6;\n",
              "    }\n",
              "\n",
              "    [theme=dark] .colab-df-convert {\n",
              "      background-color: #3B4455;\n",
              "      fill: #D2E3FC;\n",
              "    }\n",
              "\n",
              "    [theme=dark] .colab-df-convert:hover {\n",
              "      background-color: #434B5C;\n",
              "      box-shadow: 0px 1px 3px 1px rgba(0, 0, 0, 0.15);\n",
              "      filter: drop-shadow(0px 1px 2px rgba(0, 0, 0, 0.3));\n",
              "      fill: #FFFFFF;\n",
              "    }\n",
              "  </style>\n",
              "\n",
              "      <script>\n",
              "        const buttonEl =\n",
              "          document.querySelector('#df-47ece8a9-17e0-41ad-9f0d-aae5e0c93e40 button.colab-df-convert');\n",
              "        buttonEl.style.display =\n",
              "          google.colab.kernel.accessAllowed ? 'block' : 'none';\n",
              "\n",
              "        async function convertToInteractive(key) {\n",
              "          const element = document.querySelector('#df-47ece8a9-17e0-41ad-9f0d-aae5e0c93e40');\n",
              "          const dataTable =\n",
              "            await google.colab.kernel.invokeFunction('convertToInteractive',\n",
              "                                                     [key], {});\n",
              "          if (!dataTable) return;\n",
              "\n",
              "          const docLinkHtml = 'Like what you see? Visit the ' +\n",
              "            '<a target=\"_blank\" href=https://colab.research.google.com/notebooks/data_table.ipynb>data table notebook</a>'\n",
              "            + ' to learn more about interactive tables.';\n",
              "          element.innerHTML = '';\n",
              "          dataTable['output_type'] = 'display_data';\n",
              "          await google.colab.output.renderOutput(dataTable, element);\n",
              "          const docLink = document.createElement('div');\n",
              "          docLink.innerHTML = docLinkHtml;\n",
              "          element.appendChild(docLink);\n",
              "        }\n",
              "      </script>\n",
              "    </div>\n",
              "  </div>\n",
              "  "
            ]
          },
          "metadata": {},
          "execution_count": 28
        }
      ],
      "source": [
        "data.tail()    # showing dataframe"
      ]
    },
    {
      "cell_type": "markdown",
      "metadata": {
        "id": "BZRoKdrAZXXn"
      },
      "source": [
        "# Data Preprocessing"
      ]
    },
    {
      "cell_type": "markdown",
      "metadata": {
        "id": "Iu0fPyiedAng"
      },
      "source": [
        "As the purpose of this project, I will study the risk factors of traffic accident. Therefore, some features are irrelavent to my study and I will drop them in the data preprocessing step.\n",
        "\n",
        "- Since my goal is about reducing the severity of the accident, the C_SEV or P_ISEV (i.e. Collision/Person Injury Severity) will be set as the target.\n",
        "\n",
        "- The date and time are also important factors for visualization, so C_MNTH, C_WDAY and C_HOUR are needed. C_YEAR is not essential because we know the data only contains one year.\n",
        "\n",
        "- Then, consider rest factors, we keep only the interesting ones: C_WTHR, C_RSUR and P_SAFE, which are the weather condition, road surface condition and the safety device usage of accidents."
      ]
    },
    {
      "cell_type": "code",
      "execution_count": 101,
      "metadata": {
        "id": "KX5Fx8fYdHKD",
        "colab": {
          "base_uri": "https://localhost:8080/"
        },
        "outputId": "e2075d8e-31d8-4eab-9c5c-4047c7430487"
      },
      "outputs": [
        {
          "output_type": "stream",
          "name": "stdout",
          "text": [
            "<class 'pandas.core.frame.DataFrame'>\n",
            "RangeIndex: 1048576 entries, 0 to 1048575\n",
            "Data columns (total 9 columns):\n",
            " #   Column  Non-Null Count    Dtype  \n",
            "---  ------  --------------    -----  \n",
            " 0   C_YEAR  1048575 non-null  float64\n",
            " 1   C_MNTH  1048575 non-null  object \n",
            " 2   C_WDAY  1048575 non-null  object \n",
            " 3   C_HOUR  1048575 non-null  object \n",
            " 4   C_SEV   1048575 non-null  float64\n",
            " 5   C_WTHR  1048575 non-null  object \n",
            " 6   C_RSUR  1048575 non-null  object \n",
            " 7   P_ISEV  1048575 non-null  object \n",
            " 8   P_SAFE  1048575 non-null  object \n",
            "dtypes: float64(2), object(7)\n",
            "memory usage: 72.0+ MB\n"
          ]
        }
      ],
      "source": [
        "data = data.drop([\"C_VEHS\", \"C_CONF\", \"C_RCFG\", \"C_RALN\", \"C_TRAF\", \n",
        "            \"V_ID\", \"V_TYPE\", \"V_YEAR\", \"P_ID\", \"P_SEX\", \n",
        "            \"P_AGE\", \"P_PSN\", \"P_USER\", \"C_CASE\",], axis=1)\n",
        "data.info()"
      ]
    },
    {
      "cell_type": "markdown",
      "metadata": {
        "id": "pcG-hDP6cVxB"
      },
      "source": [
        "### Deal with Missing Value"
      ]
    },
    {
      "cell_type": "markdown",
      "metadata": {
        "id": "U9y2b5yKjB70"
      },
      "source": [
        "Convert object to float"
      ]
    },
    {
      "cell_type": "code",
      "execution_count": 102,
      "metadata": {
        "id": "-sbvVhj6jBRy"
      },
      "outputs": [],
      "source": [
        "data['C_MNTH'] = pd.to_numeric(data['C_MNTH'],errors = 'coerce')\n",
        "data['C_WDAY'] = pd.to_numeric(data['C_WDAY'],errors = 'coerce')\n",
        "data['C_HOUR'] = pd.to_numeric(data['C_HOUR'],errors = 'coerce')\n",
        "data['C_WTHR'] = pd.to_numeric(data['C_WTHR'],errors = 'coerce')\n",
        "data['C_RSUR'] = pd.to_numeric(data['C_RSUR'],errors = 'coerce')\n",
        "data['P_ISEV'] = pd.to_numeric(data['P_ISEV'],errors = 'coerce')\n",
        "data['P_SAFE'] = pd.to_numeric(data['P_SAFE'],errors = 'coerce')"
      ]
    },
    {
      "cell_type": "code",
      "execution_count": 103,
      "metadata": {
        "id": "DpARp-RMUb4P",
        "colab": {
          "base_uri": "https://localhost:8080/"
        },
        "outputId": "c5b00550-639d-4ac8-a371-218e46f4db9e"
      },
      "outputs": [
        {
          "output_type": "stream",
          "name": "stdout",
          "text": [
            "<class 'pandas.core.frame.DataFrame'>\n",
            "RangeIndex: 1048576 entries, 0 to 1048575\n",
            "Data columns (total 9 columns):\n",
            " #   Column  Non-Null Count    Dtype  \n",
            "---  ------  --------------    -----  \n",
            " 0   C_YEAR  1048575 non-null  float64\n",
            " 1   C_MNTH  1048537 non-null  float64\n",
            " 2   C_WDAY  1047852 non-null  float64\n",
            " 3   C_HOUR  1038358 non-null  float64\n",
            " 4   C_SEV   1048575 non-null  float64\n",
            " 5   C_WTHR  1031913 non-null  float64\n",
            " 6   C_RSUR  1011252 non-null  float64\n",
            " 7   P_ISEV  992634 non-null   float64\n",
            " 8   P_SAFE  828472 non-null   float64\n",
            "dtypes: float64(9)\n",
            "memory usage: 72.0 MB\n"
          ]
        }
      ],
      "source": [
        "data.info()"
      ]
    },
    {
      "cell_type": "markdown",
      "metadata": {
        "id": "mbq_n8g2leEq"
      },
      "source": [
        "As shown, there are several missing values and outliers. We then need to decide what value should be filled in for missing value."
      ]
    },
    {
      "cell_type": "markdown",
      "metadata": {
        "id": "-Z_4TkcXLW1i"
      },
      "source": [
        "- **Personal Safety Device**\n"
      ]
    },
    {
      "cell_type": "code",
      "execution_count": 104,
      "metadata": {
        "id": "6psMdJMKt70Y",
        "colab": {
          "base_uri": "https://localhost:8080/",
          "height": 313
        },
        "outputId": "3fdd1a24-d979-4cfc-8e79-a4543833a423"
      },
      "outputs": [
        {
          "output_type": "execute_result",
          "data": {
            "text/plain": [
              "220104"
            ]
          },
          "metadata": {},
          "execution_count": 104
        },
        {
          "output_type": "display_data",
          "data": {
            "text/plain": [
              "<Figure size 432x288 with 1 Axes>"
            ],
            "image/png": "[encoded data removed]"
          },
          "metadata": {
            "needs_background": "light"
          }
        }
      ],
      "source": [
        "plt.hist(data[\"P_SAFE\"], bins=13, edgecolor='k', alpha=0.5)\n",
        "plt.xlabel(\"Type\")\n",
        "plt.ylabel(\"Number of accidents\")\n",
        "plt.title(\"Distribution of Personal Safety Device\")\n",
        "data[\"P_SAFE\"].isna().sum()"
      ]
    },
    {
      "cell_type": "markdown",
      "metadata": {
        "id": "dqLHejgoPoxc"
      },
      "source": [
        "As we can see, the personal safety device has the most missing values, and it is about 20% of the dataset. It may not be a good idea to fill in the NaN values, since those are inaccurate values and will cause errors to the result.\n",
        "\n",
        "In order to make it less influential to the result, I decided to delete those NaN rows, as the missing values are randomly distributed and will not effect the time series much."
      ]
    },
    {
      "cell_type": "code",
      "execution_count": 105,
      "metadata": {
        "id": "iEj2DGg8QBUi"
      },
      "outputs": [],
      "source": [
        "data.dropna(subset=['P_SAFE'], inplace = True)  # delete the row with NaN value in colume P_SAFE\n",
        "data[\"P_SAFE\"] = data[\"P_SAFE\"].astype(int)"
      ]
    },
    {
      "cell_type": "code",
      "execution_count": 106,
      "metadata": {
        "id": "vNvEvbhXQXiy",
        "colab": {
          "base_uri": "https://localhost:8080/"
        },
        "outputId": "4c3e4c37-0fbb-4c68-b965-93880521cdb3"
      },
      "outputs": [
        {
          "output_type": "stream",
          "name": "stdout",
          "text": [
            "<class 'pandas.core.frame.DataFrame'>\n",
            "Int64Index: 828472 entries, 2 to 1048575\n",
            "Data columns (total 9 columns):\n",
            " #   Column  Non-Null Count   Dtype  \n",
            "---  ------  --------------   -----  \n",
            " 0   C_YEAR  828471 non-null  float64\n",
            " 1   C_MNTH  828452 non-null  float64\n",
            " 2   C_WDAY  828136 non-null  float64\n",
            " 3   C_HOUR  821365 non-null  float64\n",
            " 4   C_SEV   828472 non-null  float64\n",
            " 5   C_WTHR  817696 non-null  float64\n",
            " 6   C_RSUR  798148 non-null  float64\n",
            " 7   P_ISEV  827716 non-null  float64\n",
            " 8   P_SAFE  828472 non-null  int64  \n",
            "dtypes: float64(8), int64(1)\n",
            "memory usage: 63.2 MB\n"
          ]
        }
      ],
      "source": [
        "data.info()"
      ]
    },
    {
      "cell_type": "markdown",
      "metadata": {
        "id": "ObnzLUPtoAz-"
      },
      "source": [
        "- **Weather and Road Surface**"
      ]
    },
    {
      "cell_type": "code",
      "execution_count": 107,
      "metadata": {
        "id": "mMw7i3l-nNae",
        "colab": {
          "base_uri": "https://localhost:8080/",
          "height": 313
        },
        "outputId": "24b2f269-0fb9-4347-be63-604322785205"
      },
      "outputs": [
        {
          "output_type": "execute_result",
          "data": {
            "text/plain": [
              "10776"
            ]
          },
          "metadata": {},
          "execution_count": 107
        },
        {
          "output_type": "display_data",
          "data": {
            "text/plain": [
              "<Figure size 432x288 with 1 Axes>"
            ],
            "image/png": "[encoded data removed]"
          },
          "metadata": {
            "needs_background": "light"
          }
        }
      ],
      "source": [
        "plt.hist(data[\"C_WTHR\"], bins=7, edgecolor='k', alpha=0.5)    # plot the data\n",
        "plt.xlabel(\"Type\")\n",
        "plt.ylabel(\"Number of accidents\")\n",
        "plt.title(\"Distribution of Weather\")\n",
        "data[\"C_WTHR\"].isna().sum()  # check if there exists Nah values"
      ]
    },
    {
      "cell_type": "code",
      "execution_count": 108,
      "metadata": {
        "id": "XGZsyqy_ozfR",
        "colab": {
          "base_uri": "https://localhost:8080/",
          "height": 313
        },
        "outputId": "951c5f0e-bb7b-42e8-b632-4f449a3d0cb9"
      },
      "outputs": [
        {
          "output_type": "execute_result",
          "data": {
            "text/plain": [
              "30324"
            ]
          },
          "metadata": {},
          "execution_count": 108
        },
        {
          "output_type": "display_data",
          "data": {
            "text/plain": [
              "<Figure size 432x288 with 1 Axes>"
            ],
            "image/png": "[encoded data removed]"
          },
          "metadata": {
            "needs_background": "light"
          }
        }
      ],
      "source": [
        "plt.hist(data[\"C_RSUR\"], bins=9, edgecolor='k', alpha=0.5)\n",
        "plt.xlabel(\"Type\")\n",
        "plt.ylabel(\"Number of accidents\")\n",
        "plt.title(\"Distribution of Road Surface\")\n",
        "data[\"C_RSUR\"].isna().sum()"
      ]
    },
    {
      "cell_type": "markdown",
      "metadata": {
        "id": "m-8aWcjEpXiG"
      },
      "source": [
        "As we can see, about 80% data are 1，I decided to fill the Nah as 1."
      ]
    },
    {
      "cell_type": "code",
      "execution_count": 109,
      "metadata": {
        "id": "igKNB3GHm36Q"
      },
      "outputs": [],
      "source": [
        "data[\"C_WTHR\"] = data[\"C_WTHR\"].fillna(1)\n",
        "data[\"C_WTHR\"] = data[\"C_WTHR\"].astype(int)"
      ]
    },
    {
      "cell_type": "code",
      "execution_count": 110,
      "metadata": {
        "id": "HCKwDKzvqXE2"
      },
      "outputs": [],
      "source": [
        "data[\"C_RSUR\"] = data[\"C_RSUR\"].fillna(1)\n",
        "data[\"C_RSUR\"] = data[\"C_RSUR\"].astype(int)"
      ]
    },
    {
      "cell_type": "markdown",
      "metadata": {
        "id": "sVwQSB6ToDYi"
      },
      "source": [
        "- **Person Injury Severity and Case Severity**"
      ]
    },
    {
      "cell_type": "code",
      "execution_count": 111,
      "metadata": {
        "id": "KaUulFH7q_6K",
        "colab": {
          "base_uri": "https://localhost:8080/",
          "height": 313
        },
        "outputId": "ab865ff7-7ed8-4d8a-accd-dc2a4d0f59f2"
      },
      "outputs": [
        {
          "output_type": "execute_result",
          "data": {
            "text/plain": [
              "756"
            ]
          },
          "metadata": {},
          "execution_count": 111
        },
        {
          "output_type": "display_data",
          "data": {
            "text/plain": [
              "<Figure size 432x288 with 1 Axes>"
            ],
            "image/png": "[encoded data removed]"
          },
          "metadata": {
            "needs_background": "light"
          }
        }
      ],
      "source": [
        "plt.hist(data[\"P_ISEV\"], bins=3, edgecolor='k', alpha=0.5)\n",
        "plt.xlabel(\"Type\")\n",
        "plt.ylabel(\"Number of accidents\")\n",
        "plt.title(\"Distribution of Person Injury Severity\")\n",
        "data[\"P_ISEV\"].isna().sum()"
      ]
    },
    {
      "cell_type": "code",
      "execution_count": 112,
      "metadata": {
        "id": "JrP_2eBGd3-a",
        "colab": {
          "base_uri": "https://localhost:8080/",
          "height": 313
        },
        "outputId": "f7a04fc6-d7d8-4729-b18e-acffd71e2901"
      },
      "outputs": [
        {
          "output_type": "execute_result",
          "data": {
            "text/plain": [
              "0"
            ]
          },
          "metadata": {},
          "execution_count": 112
        },
        {
          "output_type": "display_data",
          "data": {
            "text/plain": [
              "<Figure size 432x288 with 1 Axes>"
            ],
            "image/png": "[encoded data removed]"
          },
          "metadata": {
            "needs_background": "light"
          }
        }
      ],
      "source": [
        "plt.hist(data[\"C_SEV\"], bins=2, edgecolor='k', alpha=0.5)\n",
        "plt.xlabel(\"Type\")\n",
        "plt.ylabel(\"Number of accidents\")\n",
        "plt.title(\"Distribution of Severity\")\n",
        "data[\"C_SEV\"].isna().sum()"
      ]
    },
    {
      "cell_type": "markdown",
      "metadata": {
        "id": "iupkkxOBrNra"
      },
      "source": [
        "These two were initially considered to be the target data.\n",
        "\n",
        "I noticed that the C_SEV is better than P_ISEV, since the former one tells a binary form of the severity that would differentiate light or no injury (1) from Serious injury and death (2), and it doesn't have NaN value.\n",
        "\n",
        "Hence, I dropped the P_ISEV."
      ]
    },
    {
      "cell_type": "code",
      "execution_count": 113,
      "metadata": {
        "id": "26jWnJ4FWOjj",
        "colab": {
          "base_uri": "https://localhost:8080/"
        },
        "outputId": "916834e5-000f-4959-8a73-bbe361c5054b"
      },
      "outputs": [
        {
          "output_type": "stream",
          "name": "stderr",
          "text": [
            "/usr/local/lib/python3.7/dist-packages/ipykernel_launcher.py:1: FutureWarning: In a future version of pandas all arguments of DataFrame.drop except for the argument 'labels' will be keyword-only\n",
            "  \"\"\"Entry point for launching an IPython kernel.\n"
          ]
        }
      ],
      "source": [
        "data = data.drop('P_ISEV', 1)  # delete the colume P_ISEV\n",
        "data[\"C_SEV\"] = data[\"C_SEV\"].astype(int)"
      ]
    },
    {
      "cell_type": "code",
      "execution_count": 114,
      "metadata": {
        "id": "Scgtr9tdWXvI",
        "colab": {
          "base_uri": "https://localhost:8080/"
        },
        "outputId": "64ea7355-9807-4424-c960-30d9b505e5a0"
      },
      "outputs": [
        {
          "output_type": "stream",
          "name": "stdout",
          "text": [
            "<class 'pandas.core.frame.DataFrame'>\n",
            "Int64Index: 828472 entries, 2 to 1048575\n",
            "Data columns (total 8 columns):\n",
            " #   Column  Non-Null Count   Dtype  \n",
            "---  ------  --------------   -----  \n",
            " 0   C_YEAR  828471 non-null  float64\n",
            " 1   C_MNTH  828452 non-null  float64\n",
            " 2   C_WDAY  828136 non-null  float64\n",
            " 3   C_HOUR  821365 non-null  float64\n",
            " 4   C_SEV   828472 non-null  int64  \n",
            " 5   C_WTHR  828472 non-null  int64  \n",
            " 6   C_RSUR  828472 non-null  int64  \n",
            " 7   P_SAFE  828472 non-null  int64  \n",
            "dtypes: float64(4), int64(4)\n",
            "memory usage: 56.9 MB\n"
          ]
        }
      ],
      "source": [
        "data.info()"
      ]
    },
    {
      "cell_type": "markdown",
      "metadata": {
        "id": "7AR8Zp_Atwc-"
      },
      "source": [
        "- **Month, Day and Hour**\n",
        "\n",
        "There are still a lot missing value for date value, I will fill the hour with the median value of it"
      ]
    },
    {
      "cell_type": "code",
      "execution_count": 115,
      "metadata": {
        "id": "ELKCcGVeX3Hq"
      },
      "outputs": [],
      "source": [
        "data[\"C_HOUR\"] = data[\"C_HOUR\"].fillna(data.C_HOUR.median())\n",
        "data[\"C_HOUR\"] = data[\"C_HOUR\"].astype(int)"
      ]
    },
    {
      "cell_type": "markdown",
      "metadata": {
        "id": "TiDBVyCziLy8"
      },
      "source": [
        "For C_MNTH and C_WDAY, since very small of the whole dataset has NaN value, I will drop that row."
      ]
    },
    {
      "cell_type": "code",
      "execution_count": 116,
      "metadata": {
        "id": "wPO8mx4uimN1"
      },
      "outputs": [],
      "source": [
        "data.dropna(subset=['C_MNTH', 'C_WDAY'], inplace = True)  # delete the row with NaN value in colume P_ISEV\n",
        "data[\"C_YEAR\"] = data[\"C_YEAR\"].fillna(data.C_YEAR.median())"
      ]
    },
    {
      "cell_type": "markdown",
      "metadata": {
        "id": "w7fNpMLilis9"
      },
      "source": [
        "Concert year, month and days of week into integar"
      ]
    },
    {
      "cell_type": "code",
      "execution_count": 117,
      "metadata": {
        "id": "tK2MQOGaliBu"
      },
      "outputs": [],
      "source": [
        "data[\"C_MNTH\"] = data[\"C_MNTH\"].astype(int)\n",
        "data[\"C_WDAY\"] = data[\"C_WDAY\"].astype(int)\n",
        "data[\"C_YEAR\"] = data[\"C_YEAR\"].astype(int)"
      ]
    },
    {
      "cell_type": "code",
      "execution_count": 118,
      "metadata": {
        "id": "Xocj5VrsixID",
        "colab": {
          "base_uri": "https://localhost:8080/"
        },
        "outputId": "8a3ab2ee-b7a6-4107-c8c0-2602003a9888"
      },
      "outputs": [
        {
          "output_type": "stream",
          "name": "stdout",
          "text": [
            "<class 'pandas.core.frame.DataFrame'>\n",
            "Int64Index: 828136 entries, 2 to 1048575\n",
            "Data columns (total 8 columns):\n",
            " #   Column  Non-Null Count   Dtype\n",
            "---  ------  --------------   -----\n",
            " 0   C_YEAR  828136 non-null  int64\n",
            " 1   C_MNTH  828136 non-null  int64\n",
            " 2   C_WDAY  828136 non-null  int64\n",
            " 3   C_HOUR  828136 non-null  int64\n",
            " 4   C_SEV   828136 non-null  int64\n",
            " 5   C_WTHR  828136 non-null  int64\n",
            " 6   C_RSUR  828136 non-null  int64\n",
            " 7   P_SAFE  828136 non-null  int64\n",
            "dtypes: int64(8)\n",
            "memory usage: 56.9 MB\n"
          ]
        }
      ],
      "source": [
        "data.info()"
      ]
    },
    {
      "cell_type": "code",
      "execution_count": 119,
      "metadata": {
        "id": "9iguAiMWY2fp",
        "colab": {
          "base_uri": "https://localhost:8080/",
          "height": 316
        },
        "outputId": "2e5adeb6-ea72-4f71-8956-8e2260210eee"
      },
      "outputs": [
        {
          "output_type": "execute_result",
          "data": {
            "text/plain": [
              "Text(0.5, 1.0, 'Monthly view of Traffic Accidents from 1999 to 2019 in Canada')"
            ]
          },
          "metadata": {},
          "execution_count": 119
        },
        {
          "output_type": "display_data",
          "data": {
            "text/plain": [
              "<Figure size 432x288 with 1 Axes>"
            ],
            "image/png": "[encoded data removed]"
          },
          "metadata": {
            "needs_background": "light"
          }
        }
      ],
      "source": [
        "mnth_c = data['C_MNTH'].value_counts().sort_index()\n",
        "mnth_c.plot(kind=\"bar\")\n",
        "plt.xlabel(\"Month\")\n",
        "plt.ylabel(\"Number of accidents\")\n",
        "plt.title(\"Monthly view of Traffic Accidents from 1999 to 2019 in Canada\")"
      ]
    },
    {
      "cell_type": "markdown",
      "metadata": {
        "id": "RxBut17jcq2h"
      },
      "source": [
        "### Split Training and Testing Set"
      ]
    },
    {
      "cell_type": "markdown",
      "metadata": {
        "id": "5TUh4uy7af2f"
      },
      "source": [
        "The preprocessing part is done! Now we can split the training set and testing set. I decided to take a ratio of 80/20 for TRAINING/TEST."
      ]
    },
    {
      "cell_type": "code",
      "execution_count": 120,
      "metadata": {
        "id": "yWfN2f-na6VB"
      },
      "outputs": [],
      "source": [
        "from sklearn.model_selection import train_test_split\n",
        "\n",
        "X_train, X_test, y_train, y_test = train_test_split(data.drop(\"C_SEV\", axis=1), data[\"C_SEV\"], test_size=0.2, random_state=42)"
      ]
    },
    {
      "cell_type": "markdown",
      "metadata": {
        "id": "puJV4aanhjyx"
      },
      "source": [
        "In the Training set I split between the actual train set and the validation set, with a 80/20 ratio as well."
      ]
    },
    {
      "cell_type": "code",
      "execution_count": 121,
      "metadata": {
        "id": "VIckcEK4zc4m",
        "colab": {
          "base_uri": "https://localhost:8080/",
          "height": 206
        },
        "outputId": "e28167d1-b77e-40d6-9ae6-57b2bc999359"
      },
      "outputs": [
        {
          "output_type": "execute_result",
          "data": {
            "text/plain": [
              "        C_YEAR  C_MNTH  C_WDAY  C_HOUR  C_WTHR  C_RSUR  P_SAFE\n",
              "695212    2000       9       2      17       1       1       2\n",
              "753822    2000      10       6      13       2       2       2\n",
              "165873    1999       6       3      20       1       1       2\n",
              "878084    2001       2       3      15       1       1       2\n",
              "867178    2001       2       1      17       4       3       2"
            ],
            "text/html": [
              "\n",
              "  <div id=\"df-9d5650b6-8d55-493a-871c-b3484d2a9610\">\n",
              "    <div class=\"colab-df-container\">\n",
              "      <div>\n",
              "<style scoped>\n",
              "    .dataframe tbody tr th:only-of-type {\n",
              "        vertical-align: middle;\n",
              "    }\n",
              "\n",
              "    .dataframe tbody tr th {\n",
              "        vertical-align: top;\n",
              "    }\n",
              "\n",
              "    .dataframe thead th {\n",
              "        text-align: right;\n",
              "    }\n",
              "</style>\n",
              "<table border=\"1\" class=\"dataframe\">\n",
              "  <thead>\n",
              "    <tr style=\"text-align: right;\">\n",
              "      <th></th>\n",
              "      <th>C_YEAR</th>\n",
              "      <th>C_MNTH</th>\n",
              "      <th>C_WDAY</th>\n",
              "      <th>C_HOUR</th>\n",
              "      <th>C_WTHR</th>\n",
              "      <th>C_RSUR</th>\n",
              "      <th>P_SAFE</th>\n",
              "    </tr>\n",
              "  </thead>\n",
              "  <tbody>\n",
              "    <tr>\n",
              "      <th>695212</th>\n",
              "      <td>2000</td>\n",
              "      <td>9</td>\n",
              "      <td>2</td>\n",
              "      <td>17</td>\n",
              "      <td>1</td>\n",
              "      <td>1</td>\n",
              "      <td>2</td>\n",
              "    </tr>\n",
              "    <tr>\n",
              "      <th>753822</th>\n",
              "      <td>2000</td>\n",
              "      <td>10</td>\n",
              "      <td>6</td>\n",
              "      <td>13</td>\n",
              "      <td>2</td>\n",
              "      <td>2</td>\n",
              "      <td>2</td>\n",
              "    </tr>\n",
              "    <tr>\n",
              "      <th>165873</th>\n",
              "      <td>1999</td>\n",
              "      <td>6</td>\n",
              "      <td>3</td>\n",
              "      <td>20</td>\n",
              "      <td>1</td>\n",
              "      <td>1</td>\n",
              "      <td>2</td>\n",
              "    </tr>\n",
              "    <tr>\n",
              "      <th>878084</th>\n",
              "      <td>2001</td>\n",
              "      <td>2</td>\n",
              "      <td>3</td>\n",
              "      <td>15</td>\n",
              "      <td>1</td>\n",
              "      <td>1</td>\n",
              "      <td>2</td>\n",
              "    </tr>\n",
              "    <tr>\n",
              "      <th>867178</th>\n",
              "      <td>2001</td>\n",
              "      <td>2</td>\n",
              "      <td>1</td>\n",
              "      <td>17</td>\n",
              "      <td>4</td>\n",
              "      <td>3</td>\n",
              "      <td>2</td>\n",
              "    </tr>\n",
              "  </tbody>\n",
              "</table>\n",
              "</div>\n",
              "      <button class=\"colab-df-convert\" onclick=\"convertToInteractive('df-9d5650b6-8d55-493a-871c-b3484d2a9610')\"\n",
              "              title=\"Convert this dataframe to an interactive table.\"\n",
              "              style=\"display:none;\">\n",
              "        \n",
              "  <svg xmlns=\"http://www.w3.org/2000/svg\" height=\"24px\"viewBox=\"0 0 24 24\"\n",
              "       width=\"24px\">\n",
              "    <path d=\"M0 0h24v24H0V0z\" fill=\"none\"/>\n",
              "    <path d=\"M18.56 5.44l.94 2.06.94-2.06 2.06-.94-2.06-.94-.94-2.06-.94 2.06-2.06.94zm-11 1L8.5 8.5l.94-2.06 2.06-.94-2.06-.94L8.5 2.5l-.94 2.06-2.06.94zm10 10l.94 2.06.94-2.06 2.06-.94-2.06-.94-.94-2.06-.94 2.06-2.06.94z\"/><path d=\"M17.41 7.96l-1.37-1.37c-.4-.4-.92-.59-1.43-.59-.52 0-1.04.2-1.43.59L10.3 9.45l-7.72 7.72c-.78.78-.78 2.05 0 2.83L4 21.41c.39.39.9.59 1.41.59.51 0 1.02-.2 1.41-.59l7.78-7.78 2.81-2.81c.8-.78.8-2.07 0-2.86zM5.41 20L4 18.59l7.72-7.72 1.47 1.35L5.41 20z\"/>\n",
              "  </svg>\n",
              "      </button>\n",
              "      \n",
              "  <style>\n",
              "    .colab-df-container {\n",
              "      display:flex;\n",
              "      flex-wrap:wrap;\n",
              "      gap: 12px;\n",
              "    }\n",
              "\n",
              "    .colab-df-convert {\n",
              "      background-color: #E8F0FE;\n",
              "      border: none;\n",
              "      border-radius: 50%;\n",
              "      cursor: pointer;\n",
              "      display: none;\n",
              "      fill: #1967D2;\n",
              "      height: 32px;\n",
              "      padding: 0 0 0 0;\n",
              "      width: 32px;\n",
              "    }\n",
              "\n",
              "    .colab-df-convert:hover {\n",
              "      background-color: #E2EBFA;\n",
              "      box-shadow: 0px 1px 2px rgba(60, 64, 67, 0.3), 0px 1px 3px 1px rgba(60, 64, 67, 0.15);\n",
              "      fill: #174EA6;\n",
              "    }\n",
              "\n",
              "    [theme=dark] .colab-df-convert {\n",
              "      background-color: #3B4455;\n",
              "      fill: #D2E3FC;\n",
              "    }\n",
              "\n",
              "    [theme=dark] .colab-df-convert:hover {\n",
              "      background-color: #434B5C;\n",
              "      box-shadow: 0px 1px 3px 1px rgba(0, 0, 0, 0.15);\n",
              "      filter: drop-shadow(0px 1px 2px rgba(0, 0, 0, 0.3));\n",
              "      fill: #FFFFFF;\n",
              "    }\n",
              "  </style>\n",
              "\n",
              "      <script>\n",
              "        const buttonEl =\n",
              "          document.querySelector('#df-9d5650b6-8d55-493a-871c-b3484d2a9610 button.colab-df-convert');\n",
              "        buttonEl.style.display =\n",
              "          google.colab.kernel.accessAllowed ? 'block' : 'none';\n",
              "\n",
              "        async function convertToInteractive(key) {\n",
              "          const element = document.querySelector('#df-9d5650b6-8d55-493a-871c-b3484d2a9610');\n",
              "          const dataTable =\n",
              "            await google.colab.kernel.invokeFunction('convertToInteractive',\n",
              "                                                     [key], {});\n",
              "          if (!dataTable) return;\n",
              "\n",
              "          const docLinkHtml = 'Like what you see? Visit the ' +\n",
              "            '<a target=\"_blank\" href=https://colab.research.google.com/notebooks/data_table.ipynb>data table notebook</a>'\n",
              "            + ' to learn more about interactive tables.';\n",
              "          element.innerHTML = '';\n",
              "          dataTable['output_type'] = 'display_data';\n",
              "          await google.colab.output.renderOutput(dataTable, element);\n",
              "          const docLink = document.createElement('div');\n",
              "          docLink.innerHTML = docLinkHtml;\n",
              "          element.appendChild(docLink);\n",
              "        }\n",
              "      </script>\n",
              "    </div>\n",
              "  </div>\n",
              "  "
            ]
          },
          "metadata": {},
          "execution_count": 121
        }
      ],
      "source": [
        "X_train.head()"
      ]
    },
    {
      "cell_type": "code",
      "execution_count": 122,
      "metadata": {
        "id": "lNkgUroFzget",
        "colab": {
          "base_uri": "https://localhost:8080/"
        },
        "outputId": "83bfe670-4c8d-4703-8357-701ba34f4dd7"
      },
      "outputs": [
        {
          "output_type": "execute_result",
          "data": {
            "text/plain": [
              "695212    2\n",
              "753822    2\n",
              "165873    2\n",
              "878084    2\n",
              "867178    2\n",
              "Name: C_SEV, dtype: int64"
            ]
          },
          "metadata": {},
          "execution_count": 122
        }
      ],
      "source": [
        "y_train.head()"
      ]
    },
    {
      "cell_type": "markdown",
      "metadata": {
        "id": "rQZ_a7NuhpaF"
      },
      "source": [
        "# Modeling"
      ]
    },
    {
      "cell_type": "markdown",
      "metadata": {
        "id": "ibuJYhXnybTV"
      },
      "source": [
        "We can build some models to train and test. Here I have already preprocessed data, so the feature selection is much more easier."
      ]
    },
    {
      "cell_type": "code",
      "execution_count": 51,
      "metadata": {
        "id": "EvZpoofondJ8"
      },
      "outputs": [],
      "source": [
        "# import possible libraries\n",
        "from sklearn.pipeline import Pipeline\n",
        "from sklearn.impute import SimpleImputer\n",
        "from sklearn.preprocessing import StandardScaler, OneHotEncoder\n",
        "from sklearn.model_selection import train_test_split, GridSearchCV\n",
        "from xgboost.sklearn import XGBClassifier\n",
        "import time\n",
        "from sklearn.metrics import accuracy_score\n",
        "from sklearn.ensemble import RandomForestClassifier\n",
        "from sklearn.metrics import confusion_matrix, precision_score, recall_score, roc_curve, roc_auc_score"
      ]
    },
    {
      "cell_type": "markdown",
      "metadata": {
        "id": "-rq3nXYkP-dO"
      },
      "source": [
        "### XGBoosting"
      ]
    },
    {
      "cell_type": "code",
      "source": [
        "model_xgb = XGBClassifier(n_estimators=500,max_depth=10,n_jobs=-1)\n",
        "model_xgb.fit(X_train,y_train)"
      ],
      "metadata": {
        "colab": {
          "base_uri": "https://localhost:8080/"
        },
        "id": "-hlsORzKL5lI",
        "outputId": "3ee82c6b-aad8-4e5b-87f3-34c8019db87f"
      },
      "execution_count": 69,
      "outputs": [
        {
          "output_type": "execute_result",
          "data": {
            "text/plain": [
              "XGBClassifier(max_depth=10, n_estimators=500, n_jobs=-1)"
            ]
          },
          "metadata": {},
          "execution_count": 69
        }
      ]
    },
    {
      "cell_type": "code",
      "source": [
        "xgb_y_pred = model_xgb.predict(X_test)\n",
        "accuracy_score(y_test, xgb_y_pred)"
      ],
      "metadata": {
        "colab": {
          "base_uri": "https://localhost:8080/"
        },
        "id": "SIPD5Y7PMDpN",
        "outputId": "51e21bfa-27fc-4b24-fc42-3ff191a87601"
      },
      "execution_count": 70,
      "outputs": [
        {
          "output_type": "execute_result",
          "data": {
            "text/plain": [
              "0.9839278382882122"
            ]
          },
          "metadata": {},
          "execution_count": 70
        }
      ]
    },
    {
      "cell_type": "code",
      "source": [
        "precision_score(y_test, xgb_y_pred)"
      ],
      "metadata": {
        "colab": {
          "base_uri": "https://localhost:8080/"
        },
        "id": "B2c0JmILMKa4",
        "outputId": "97382cb6-fd12-44a9-b15c-1d172d478d3e"
      },
      "execution_count": 71,
      "outputs": [
        {
          "output_type": "execute_result",
          "data": {
            "text/plain": [
              "0.7016706443914081"
            ]
          },
          "metadata": {},
          "execution_count": 71
        }
      ]
    },
    {
      "cell_type": "code",
      "source": [
        "recall_score(y_test, xgb_y_pred)"
      ],
      "metadata": {
        "colab": {
          "base_uri": "https://localhost:8080/"
        },
        "id": "ehNLEloTMN29",
        "outputId": "c254d608-f67a-4c84-fdf1-2e48ae82a016"
      },
      "execution_count": 72,
      "outputs": [
        {
          "output_type": "execute_result",
          "data": {
            "text/plain": [
              "0.10385022960084776"
            ]
          },
          "metadata": {},
          "execution_count": 72
        }
      ]
    },
    {
      "cell_type": "code",
      "source": [
        "# display Feature Importances\n",
        "importance = model_xgb.feature_importances_\n",
        "# summarize feature importance\n",
        "for i,v in enumerate(importance):\n",
        "\tprint('Feature: %0d, Score: %.5f' % (i,v))\n",
        "# plot feature importance\n",
        "plt.title(\"Feature Importances by XGBoosting\")\n",
        "plt.bar([\"C_YEAR\", \"C_MNTH\", \"C_WDAY\", \"C_HOUR\", \"C_WTHR\", \"C_RSUR\", \"P_SAFE\"], importance)\n",
        "plt.show()"
      ],
      "metadata": {
        "colab": {
          "base_uri": "https://localhost:8080/",
          "height": 411
        },
        "id": "cKVD1jIyMSu9",
        "outputId": "5351e343-9a4d-4e8e-89a5-30df3bb180d1"
      },
      "execution_count": 74,
      "outputs": [
        {
          "output_type": "stream",
          "name": "stdout",
          "text": [
            "Feature: 0, Score: 0.10830\n",
            "Feature: 1, Score: 0.12118\n",
            "Feature: 2, Score: 0.11379\n",
            "Feature: 3, Score: 0.11954\n",
            "Feature: 4, Score: 0.12142\n",
            "Feature: 5, Score: 0.12235\n",
            "Feature: 6, Score: 0.29342\n"
          ]
        },
        {
          "output_type": "display_data",
          "data": {
            "text/plain": [
              "<Figure size 432x288 with 1 Axes>"
            ],
            "image/png": "[encoded data removed]"
          },
          "metadata": {
            "needs_background": "light"
          }
        }
      ]
    },
    {
      "cell_type": "markdown",
      "source": [
        "The following is an alternative version, it takes about two hours to run. The value of evaluation functions are very close."
      ],
      "metadata": {
        "id": "8h44pFhVMbVX"
      }
    },
    {
      "cell_type": "code",
      "execution_count": null,
      "metadata": {
        "id": "r57ruvH3QWmM"
      },
      "outputs": [],
      "source": [
        "from sklearn import metrics\n",
        "from xgboost.sklearn import XGBClassifier\n",
        "\n",
        "t0=time.time()\n",
        "\n",
        "#Classifier Pipeline\n",
        "train_feature_xgb = [\"C_WDAY\", \"C_HOUR\", \"C_WTHR\", \"C_RSUR\", \"P_SAFE\"]\n",
        "train_transformer_xgb = Pipeline(steps=[\n",
        "    ('imputer', SimpleImputer(strategy='median')),\n",
        "    ('scaler', StandardScaler())])\n",
        "\n",
        "xgb_preprocessor = ColumnTransformer(\n",
        "    transformers=[('pipe', train_transformer_xgb, train_feature_xgb)])\n",
        "\n",
        "xgb_pipe = Pipeline(steps=[('preprocessor', xgb_preprocessor),\n",
        "            ('xgb', XGBClassifier(objective='binary:logistic', seed=1))])\n",
        "\n",
        "# Set parameters\n",
        "xgb_params = {\n",
        "    'xgb__n_estimators': [100, 500],\n",
        "    'xgb__max_depth':[5, 10, 50],\n",
        "    'xgb__subsample': [0.6],\n",
        "    # 'xgb__learning_rate': [0.1]\n",
        "}\n",
        "\n",
        "# Use GridSearchCV to test all values for n_estimators\n",
        "grid_search_xgb = GridSearchCV(\n",
        "    xgb_pipe, xgb_params, cv=5, verbose=3, n_jobs=2,\n",
        "    scoring='accuracy')\n",
        "grid_search_xgb.fit(X_train, y_train) # Fit the model to training data\n",
        "\n",
        "print('best score {}'.format(grid_search_xgb.best_score_))\n",
        "print('Time taken :' , time.time()-t0)"
      ]
    },
    {
      "cell_type": "code",
      "execution_count": null,
      "metadata": {
        "id": "zrINRBSxWrqR"
      },
      "outputs": [],
      "source": [
        "### Show the best parameter's value\n",
        "xgb_best = grid_search_xgb.best_estimator_\n",
        "print(grid_search_xgb.best_params_)"
      ]
    },
    {
      "cell_type": "markdown",
      "metadata": {
        "id": "JML_SAQtkwPM"
      },
      "source": [
        "### Random Forest"
      ]
    },
    {
      "cell_type": "code",
      "source": [
        "from sklearn import metrics\n",
        "from sklearn.ensemble import RandomForestClassifier\n",
        "from sklearn.metrics import classification_report, f1_score, accuracy_score, precision_score, confusion_matrix\n",
        "from sklearn.pipeline import Pipeline\n",
        "from sklearn.feature_extraction.text import TfidfVectorizer\n",
        "from sklearn.compose import ColumnTransformer"
      ],
      "metadata": {
        "id": "jw3CtxYiwiU2"
      },
      "execution_count": 58,
      "outputs": []
    },
    {
      "cell_type": "code",
      "source": [
        "model_rf = RandomForestClassifier(n_estimators=100,random_state=0, n_jobs=-1)\n",
        "model_rf.fit(X_train,y_train)"
      ],
      "metadata": {
        "colab": {
          "base_uri": "https://localhost:8080/"
        },
        "id": "KpuekOwTseMo",
        "outputId": "2df2a889-b3e6-426e-8918-66f448e4bafa"
      },
      "execution_count": 62,
      "outputs": [
        {
          "output_type": "execute_result",
          "data": {
            "text/plain": [
              "RandomForestClassifier(n_jobs=-1, random_state=0)"
            ]
          },
          "metadata": {},
          "execution_count": 62
        }
      ]
    },
    {
      "cell_type": "code",
      "source": [
        "rf_y_pred = model_rf.predict(X_test)\n",
        "accuracy_score(y_test, rf_y_pred)"
      ],
      "metadata": {
        "colab": {
          "base_uri": "https://localhost:8080/"
        },
        "id": "UFCDf16LwjH-",
        "outputId": "fe22e1d0-7ec1-44f8-c035-638d2c7ead18"
      },
      "execution_count": 54,
      "outputs": [
        {
          "output_type": "execute_result",
          "data": {
            "text/plain": [
              "0.9838433115173763"
            ]
          },
          "metadata": {},
          "execution_count": 54
        }
      ]
    },
    {
      "cell_type": "code",
      "execution_count": 56,
      "metadata": {
        "id": "HxaFUauBRaBX",
        "colab": {
          "base_uri": "https://localhost:8080/"
        },
        "outputId": "f28a1b92-cfba-4969-e0fe-ead6d4e347d1"
      },
      "outputs": [
        {
          "output_type": "execute_result",
          "data": {
            "text/plain": [
              "0.6074895977808599"
            ]
          },
          "metadata": {},
          "execution_count": 56
        }
      ],
      "source": [
        "precision_score(y_test, rf_y_pred)"
      ]
    },
    {
      "cell_type": "code",
      "execution_count": 57,
      "metadata": {
        "id": "JZf9R7mjRiG5",
        "colab": {
          "base_uri": "https://localhost:8080/"
        },
        "outputId": "3e025a9c-e9ba-4d46-9008-03d579d6eb8b"
      },
      "outputs": [
        {
          "output_type": "execute_result",
          "data": {
            "text/plain": [
              "0.15471564818085481"
            ]
          },
          "metadata": {},
          "execution_count": 57
        }
      ],
      "source": [
        "recall_score(y_test, rf_y_pred)"
      ]
    },
    {
      "cell_type": "code",
      "source": [
        "# get importance\n",
        "importance = model_rf.feature_importances_\n",
        "# summarize feature importance\n",
        "for i,v in enumerate(importance):\n",
        "\tprint('Feature: %0d, Score: %.5f' % (i,v))\n",
        "# plot feature importance\n",
        "plt.title(\"Feature Importances by RandomForest\")\n",
        "plt.bar([\"C_YEAR\", \"C_MNTH\", \"C_WDAY\", \"C_HOUR\", \"C_WTHR\", \"C_RSUR\", \"P_SAFE\"], importance)\n",
        "plt.show()"
      ],
      "metadata": {
        "colab": {
          "base_uri": "https://localhost:8080/",
          "height": 411
        },
        "id": "zmL60mbW8dZQ",
        "outputId": "8110bdff-57aa-4e7c-a38e-1b8f11dc0e0f"
      },
      "execution_count": 73,
      "outputs": [
        {
          "output_type": "stream",
          "name": "stdout",
          "text": [
            "Feature: 0, Score: 0.05827\n",
            "Feature: 1, Score: 0.24524\n",
            "Feature: 2, Score: 0.15623\n",
            "Feature: 3, Score: 0.33525\n",
            "Feature: 4, Score: 0.07774\n",
            "Feature: 5, Score: 0.07096\n",
            "Feature: 6, Score: 0.05631\n"
          ]
        },
        {
          "output_type": "display_data",
          "data": {
            "text/plain": [
              "<Figure size 432x288 with 1 Axes>"
            ],
            "image/png": "[encoded data removed]"
          },
          "metadata": {
            "needs_background": "light"
          }
        }
      ]
    },
    {
      "cell_type": "markdown",
      "source": [
        "The following is an alternative version, but it takes about one hour to run and the value of evaluation functions are very close."
      ],
      "metadata": {
        "id": "-jwnyEAGH6bx"
      }
    },
    {
      "cell_type": "code",
      "execution_count": null,
      "metadata": {
        "id": "Gn_4e3q2pS24"
      },
      "outputs": [],
      "source": [
        "from sklearn import metrics\n",
        "from sklearn.ensemble import RandomForestClassifier\n",
        "from sklearn.metrics import classification_report, f1_score, accuracy_score, precision_score, confusion_matrix\n",
        "from sklearn.pipeline import Pipeline\n",
        "from sklearn.feature_extraction.text import TfidfVectorizer\n",
        "from sklearn.compose import ColumnTransformer\n",
        "\n",
        "#Classifier Pipeline\n",
        "train_feature = [\"C_WDAY\", \"C_HOUR\", \"C_WTHR\", \"C_RSUR\", \"P_SAFE\"]\n",
        "train_transformer = Pipeline(steps=[\n",
        "    ('imputer', SimpleImputer(strategy='median')),\n",
        "    ('scaler', StandardScaler())])\n",
        "\n",
        "preprocessor = ColumnTransformer(\n",
        "    transformers=[('pipe', train_transformer, train_feature)])\n",
        "\n",
        "rf_pipe = Pipeline(steps=[('preprocessor', preprocessor), \n",
        "              ('rf', RandomForestClassifier())])\n",
        "\n",
        "rf_params = {\n",
        "        'rf__n_estimators': [100, 500, 1000],\n",
        "        'rf__max_depth': [10, 50],\n",
        "        'rf__min_samples_split': [2, 5],\n",
        "        }\n",
        "\n",
        "# Use GridSearchCV to test all values for n_estimators\n",
        "grid_search_rf = GridSearchCV(rf_pipe, rf_params, cv=5, verbose=3, \n",
        "                n_jobs=2, scoring='accuracy')\n",
        "\n",
        "grid_search_rf.fit(X_train, y_train) # Fit the model to training data\n",
        "\n",
        "print('best score {}'.format(grid_search_rf.best_score_))"
      ]
    },
    {
      "cell_type": "code",
      "execution_count": null,
      "metadata": {
        "id": "BG_ZJ3Fr7nTY"
      },
      "outputs": [],
      "source": [
        "### Show the best parameter's value\n",
        "rf_best = grid_search_rf.best_estimator_\n",
        "print(grid_search_rf.best_params_)"
      ]
    },
    {
      "cell_type": "markdown",
      "metadata": {
        "id": "ogOufe7yckw8"
      },
      "source": [
        "# Visualization and Results"
      ]
    },
    {
      "cell_type": "markdown",
      "metadata": {
        "id": "nEKNocjlX8wL"
      },
      "source": [
        "The accuracy is pretty high for both models. Let's visualize the prediction.\n",
        "\n",
        "### Add Datetime to Dataset"
      ]
    },
    {
      "cell_type": "code",
      "execution_count": 80,
      "metadata": {
        "id": "gYUw3BXrjzNX"
      },
      "outputs": [],
      "source": [
        "# Convert date to datetime\n",
        "data['C_YEAR'] = data['C_YEAR'].apply(str)\n",
        "data['C_MNTH'] = data['C_MNTH'].apply(str)\n",
        "data['C_MNTH'] = data.C_MNTH.str.rjust(2,'0')\n",
        "data['C_WDAY'] = data['C_WDAY'].apply(str)\n",
        "data['C_WDAY'] = data.C_WDAY.str.rjust(2,'0')\n",
        "# .rjust returns a new string of length width right-aligned from the \n",
        "# original string and padded with spaces. If the specified length is\n",
        "# less than the length of the string, return the original string. \n",
        "\n",
        "\n",
        "data['date'] = data[['C_YEAR', 'C_MNTH', 'C_WDAY']].agg('-'.join, axis=1)\n",
        "data[\"date\"] = pd.to_datetime(data[\"date\"],format='%Y-%m-%d')\n"
      ]
    },
    {
      "cell_type": "code",
      "execution_count": 81,
      "metadata": {
        "id": "8I7FVXaRaEOW",
        "colab": {
          "base_uri": "https://localhost:8080/"
        },
        "outputId": "35346a71-723f-41c0-a1c6-da5858d74ba5"
      },
      "outputs": [
        {
          "output_type": "stream",
          "name": "stdout",
          "text": [
            "<class 'pandas.core.frame.DataFrame'>\n",
            "Int64Index: 828136 entries, 2 to 1048575\n",
            "Data columns (total 9 columns):\n",
            " #   Column  Non-Null Count   Dtype         \n",
            "---  ------  --------------   -----         \n",
            " 0   C_YEAR  828136 non-null  object        \n",
            " 1   C_MNTH  828136 non-null  object        \n",
            " 2   C_WDAY  828136 non-null  object        \n",
            " 3   C_HOUR  828136 non-null  int64         \n",
            " 4   C_SEV   828136 non-null  int64         \n",
            " 5   C_WTHR  828136 non-null  int64         \n",
            " 6   C_RSUR  828136 non-null  int64         \n",
            " 7   P_SAFE  828136 non-null  int64         \n",
            " 8   date    828136 non-null  datetime64[ns]\n",
            "dtypes: datetime64[ns](1), int64(5), object(3)\n",
            "memory usage: 63.2+ MB\n"
          ]
        }
      ],
      "source": [
        "data.info()"
      ]
    },
    {
      "cell_type": "markdown",
      "metadata": {
        "id": "qNMqtouBw4NK"
      },
      "source": [
        "## Use Prophet to Predict"
      ]
    },
    {
      "cell_type": "code",
      "execution_count": 82,
      "metadata": {
        "id": "GOvTit90aQlb",
        "colab": {
          "base_uri": "https://localhost:8080/",
          "height": 206
        },
        "outputId": "8d46b531-f558-4e25-b800-b5fcfa1ba9a0"
      },
      "outputs": [
        {
          "output_type": "execute_result",
          "data": {
            "text/plain": [
              "          ds     y\n",
              "0 1999-01-01  3617\n",
              "1 1999-01-02  3265\n",
              "2 1999-01-03  3525\n",
              "3 1999-01-04  3671\n",
              "4 1999-01-05  4853"
            ],
            "text/html": [
              "\n",
              "  <div id=\"df-0cbacd6d-53da-4cce-a7d8-b43ac066597c\">\n",
              "    <div class=\"colab-df-container\">\n",
              "      <div>\n",
              "<style scoped>\n",
              "    .dataframe tbody tr th:only-of-type {\n",
              "        vertical-align: middle;\n",
              "    }\n",
              "\n",
              "    .dataframe tbody tr th {\n",
              "        vertical-align: top;\n",
              "    }\n",
              "\n",
              "    .dataframe thead th {\n",
              "        text-align: right;\n",
              "    }\n",
              "</style>\n",
              "<table border=\"1\" class=\"dataframe\">\n",
              "  <thead>\n",
              "    <tr style=\"text-align: right;\">\n",
              "      <th></th>\n",
              "      <th>ds</th>\n",
              "      <th>y</th>\n",
              "    </tr>\n",
              "  </thead>\n",
              "  <tbody>\n",
              "    <tr>\n",
              "      <th>0</th>\n",
              "      <td>1999-01-01</td>\n",
              "      <td>3617</td>\n",
              "    </tr>\n",
              "    <tr>\n",
              "      <th>1</th>\n",
              "      <td>1999-01-02</td>\n",
              "      <td>3265</td>\n",
              "    </tr>\n",
              "    <tr>\n",
              "      <th>2</th>\n",
              "      <td>1999-01-03</td>\n",
              "      <td>3525</td>\n",
              "    </tr>\n",
              "    <tr>\n",
              "      <th>3</th>\n",
              "      <td>1999-01-04</td>\n",
              "      <td>3671</td>\n",
              "    </tr>\n",
              "    <tr>\n",
              "      <th>4</th>\n",
              "      <td>1999-01-05</td>\n",
              "      <td>4853</td>\n",
              "    </tr>\n",
              "  </tbody>\n",
              "</table>\n",
              "</div>\n",
              "      <button class=\"colab-df-convert\" onclick=\"convertToInteractive('df-0cbacd6d-53da-4cce-a7d8-b43ac066597c')\"\n",
              "              title=\"Convert this dataframe to an interactive table.\"\n",
              "              style=\"display:none;\">\n",
              "        \n",
              "  <svg xmlns=\"http://www.w3.org/2000/svg\" height=\"24px\"viewBox=\"0 0 24 24\"\n",
              "       width=\"24px\">\n",
              "    <path d=\"M0 0h24v24H0V0z\" fill=\"none\"/>\n",
              "    <path d=\"M18.56 5.44l.94 2.06.94-2.06 2.06-.94-2.06-.94-.94-2.06-.94 2.06-2.06.94zm-11 1L8.5 8.5l.94-2.06 2.06-.94-2.06-.94L8.5 2.5l-.94 2.06-2.06.94zm10 10l.94 2.06.94-2.06 2.06-.94-2.06-.94-.94-2.06-.94 2.06-2.06.94z\"/><path d=\"M17.41 7.96l-1.37-1.37c-.4-.4-.92-.59-1.43-.59-.52 0-1.04.2-1.43.59L10.3 9.45l-7.72 7.72c-.78.78-.78 2.05 0 2.83L4 21.41c.39.39.9.59 1.41.59.51 0 1.02-.2 1.41-.59l7.78-7.78 2.81-2.81c.8-.78.8-2.07 0-2.86zM5.41 20L4 18.59l7.72-7.72 1.47 1.35L5.41 20z\"/>\n",
              "  </svg>\n",
              "      </button>\n",
              "      \n",
              "  <style>\n",
              "    .colab-df-container {\n",
              "      display:flex;\n",
              "      flex-wrap:wrap;\n",
              "      gap: 12px;\n",
              "    }\n",
              "\n",
              "    .colab-df-convert {\n",
              "      background-color: #E8F0FE;\n",
              "      border: none;\n",
              "      border-radius: 50%;\n",
              "      cursor: pointer;\n",
              "      display: none;\n",
              "      fill: #1967D2;\n",
              "      height: 32px;\n",
              "      padding: 0 0 0 0;\n",
              "      width: 32px;\n",
              "    }\n",
              "\n",
              "    .colab-df-convert:hover {\n",
              "      background-color: #E2EBFA;\n",
              "      box-shadow: 0px 1px 2px rgba(60, 64, 67, 0.3), 0px 1px 3px 1px rgba(60, 64, 67, 0.15);\n",
              "      fill: #174EA6;\n",
              "    }\n",
              "\n",
              "    [theme=dark] .colab-df-convert {\n",
              "      background-color: #3B4455;\n",
              "      fill: #D2E3FC;\n",
              "    }\n",
              "\n",
              "    [theme=dark] .colab-df-convert:hover {\n",
              "      background-color: #434B5C;\n",
              "      box-shadow: 0px 1px 3px 1px rgba(0, 0, 0, 0.15);\n",
              "      filter: drop-shadow(0px 1px 2px rgba(0, 0, 0, 0.3));\n",
              "      fill: #FFFFFF;\n",
              "    }\n",
              "  </style>\n",
              "\n",
              "      <script>\n",
              "        const buttonEl =\n",
              "          document.querySelector('#df-0cbacd6d-53da-4cce-a7d8-b43ac066597c button.colab-df-convert');\n",
              "        buttonEl.style.display =\n",
              "          google.colab.kernel.accessAllowed ? 'block' : 'none';\n",
              "\n",
              "        async function convertToInteractive(key) {\n",
              "          const element = document.querySelector('#df-0cbacd6d-53da-4cce-a7d8-b43ac066597c');\n",
              "          const dataTable =\n",
              "            await google.colab.kernel.invokeFunction('convertToInteractive',\n",
              "                                                     [key], {});\n",
              "          if (!dataTable) return;\n",
              "\n",
              "          const docLinkHtml = 'Like what you see? Visit the ' +\n",
              "            '<a target=\"_blank\" href=https://colab.research.google.com/notebooks/data_table.ipynb>data table notebook</a>'\n",
              "            + ' to learn more about interactive tables.';\n",
              "          element.innerHTML = '';\n",
              "          dataTable['output_type'] = 'display_data';\n",
              "          await google.colab.output.renderOutput(dataTable, element);\n",
              "          const docLink = document.createElement('div');\n",
              "          docLink.innerHTML = docLinkHtml;\n",
              "          element.appendChild(docLink);\n",
              "        }\n",
              "      </script>\n",
              "    </div>\n",
              "  </div>\n",
              "  "
            ]
          },
          "metadata": {},
          "execution_count": 82
        }
      ],
      "source": [
        "df = data.date.value_counts().sort_index()\n",
        "df_pr = df.to_frame().reset_index()\n",
        "df_pr.columns = ['ds','y']\n",
        "df_pr.head()"
      ]
    },
    {
      "cell_type": "code",
      "execution_count": 83,
      "metadata": {
        "id": "P9mwSrw14Nuq",
        "colab": {
          "base_uri": "https://localhost:8080/"
        },
        "outputId": "b02d3431-bc3a-46c3-b5aa-6ff49859817d"
      },
      "outputs": [
        {
          "output_type": "execute_result",
          "data": {
            "text/plain": [
              "DatetimeIndex(['1999-01-01', '1999-01-02', '1999-01-03', '1999-01-04',\n",
              "               '1999-01-05', '1999-01-06', '1999-01-07', '1999-02-01',\n",
              "               '1999-02-02', '1999-02-03',\n",
              "               ...\n",
              "               '2001-06-03', '2001-06-04', '2001-06-05', '2001-06-06',\n",
              "               '2001-06-07', '2001-07-01', '2001-07-02', '2001-07-03',\n",
              "               '2001-07-04', '2001-07-05'],\n",
              "              dtype='datetime64[ns]', length=215, freq=None)"
            ]
          },
          "metadata": {},
          "execution_count": 83
        }
      ],
      "source": [
        "df.index"
      ]
    },
    {
      "cell_type": "markdown",
      "metadata": {
        "id": "QpWUFH9nuOjn"
      },
      "source": [
        "- Prediction without yearly seasonality:"
      ]
    },
    {
      "cell_type": "code",
      "execution_count": 84,
      "metadata": {
        "id": "SMNJyD-pa1M0",
        "colab": {
          "base_uri": "https://localhost:8080/",
          "height": 459
        },
        "outputId": "b0a11df9-c52f-49a8-89b9-a819a4d9a3ae"
      },
      "outputs": [
        {
          "output_type": "stream",
          "name": "stderr",
          "text": [
            "INFO:fbprophet:Disabling daily seasonality. Run prophet with daily_seasonality=True to override this.\n"
          ]
        },
        {
          "output_type": "display_data",
          "data": {
            "text/plain": [
              "<Figure size 720x432 with 1 Axes>"
            ],
            "image/png": "[encoded data removed]"
          },
          "metadata": {}
        }
      ],
      "source": [
        "from fbprophet import Prophet\n",
        "# Use prophet to build model\n",
        "pr_m = Prophet(seasonality_mode='multiplicative').fit(df_pr)\n",
        "\n",
        "# Predictions\n",
        "future = pr_m.make_future_dataframe(periods=12, freq='MS')\n",
        "prophet_pred = pr_m.predict(future)\n",
        "fig = pr_m.plot(prophet_pred)"
      ]
    },
    {
      "cell_type": "markdown",
      "metadata": {
        "id": "EQT-dofLuJ_h"
      },
      "source": [
        "- Prediction with yearly seasonality & for future 10 years:"
      ]
    },
    {
      "cell_type": "code",
      "execution_count": 85,
      "metadata": {
        "id": "1dHzLgoeaAn7",
        "colab": {
          "base_uri": "https://localhost:8080/"
        },
        "outputId": "9ba21d33-5a06-49ae-fe42-b2a1edeb9302"
      },
      "outputs": [
        {
          "output_type": "stream",
          "name": "stderr",
          "text": [
            "INFO:fbprophet:Disabling daily seasonality. Run prophet with daily_seasonality=True to override this.\n"
          ]
        }
      ],
      "source": [
        "from fbprophet import Prophet\n",
        "# Use prophet to build model\n",
        "pr_m = Prophet(seasonality_mode='multiplicative', yearly_seasonality=True).fit(df_pr)\n",
        "\n",
        "# Predictions\n",
        "future = pr_m.make_future_dataframe(periods=120, freq='MS')\n",
        "prophet_pred = pr_m.predict(future)"
      ]
    },
    {
      "cell_type": "code",
      "execution_count": 86,
      "metadata": {
        "id": "TBKwIYlEkNNQ",
        "colab": {
          "base_uri": "https://localhost:8080/",
          "height": 441
        },
        "outputId": "7427bb5d-7aff-4c81-9917-63ea078e0860"
      },
      "outputs": [
        {
          "output_type": "display_data",
          "data": {
            "text/plain": [
              "<Figure size 720x432 with 1 Axes>"
            ],
            "image/png": "[encoded data removed]"
          },
          "metadata": {}
        }
      ],
      "source": [
        "fig = pr_m.plot(prophet_pred)"
      ]
    },
    {
      "cell_type": "markdown",
      "metadata": {
        "id": "9Mp2rDmAxQkq"
      },
      "source": [
        "## Other Observations"
      ]
    },
    {
      "cell_type": "markdown",
      "metadata": {
        "id": "0FTohAjk84-6"
      },
      "source": [
        "### 1. Which day of a week has most accidents?"
      ]
    },
    {
      "cell_type": "code",
      "execution_count": 123,
      "metadata": {
        "id": "DbVi7yLjzfyJ"
      },
      "outputs": [],
      "source": [
        "day_c = data['C_WDAY'].value_counts().sort_index()\n",
        "day_c = day_c.to_frame()\n",
        "day_c.index= ['Mon','Tue','Wed','Thu','Fri','Sat','Sun']"
      ]
    },
    {
      "cell_type": "code",
      "execution_count": 124,
      "metadata": {
        "id": "tfYETeoV_j_i",
        "colab": {
          "base_uri": "https://localhost:8080/",
          "height": 311
        },
        "outputId": "0865f992-5836-4a71-cde0-7683fd771676"
      },
      "outputs": [
        {
          "output_type": "execute_result",
          "data": {
            "text/plain": [
              "Text(0.5, 1.0, 'Distribution of Daily Accidents')"
            ]
          },
          "metadata": {},
          "execution_count": 124
        },
        {
          "output_type": "display_data",
          "data": {
            "text/plain": [
              "<Figure size 432x288 with 1 Axes>"
            ],
            "image/png": "[encoded data removed]"
          },
          "metadata": {
            "needs_background": "light"
          }
        }
      ],
      "source": [
        "day_c.plot.bar()\n",
        "plt.ylabel(\"Number of accidents\")\n",
        "plt.title(\"Distribution of Daily Accidents\")"
      ]
    },
    {
      "cell_type": "markdown",
      "metadata": {
        "id": "eH-XjAU2AX9i"
      },
      "source": [
        "- Friday has the most traffic accidents.\n",
        "- Sunday has the least traffic accidents."
      ]
    },
    {
      "cell_type": "markdown",
      "metadata": {
        "id": "Y7NteblOAvuq"
      },
      "source": [
        "### 2. What hour of day is most possible to have accidents?"
      ]
    },
    {
      "cell_type": "code",
      "execution_count": 125,
      "metadata": {
        "id": "prGv63zLA_z9"
      },
      "outputs": [],
      "source": [
        "hour_c = data['C_HOUR'].value_counts().sort_index()\n",
        "hour_c = hour_c.to_frame()"
      ]
    },
    {
      "cell_type": "code",
      "execution_count": 126,
      "metadata": {
        "id": "QBJqCGE5BPC5",
        "colab": {
          "base_uri": "https://localhost:8080/",
          "height": 520
        },
        "outputId": "1508e854-943d-47bd-b6e2-a4b8e0f05702"
      },
      "outputs": [
        {
          "output_type": "execute_result",
          "data": {
            "text/plain": [
              "Text(0.5, 1.0, 'Distribution of Hourly Accidents of 1999 to 2001 in Canada')"
            ]
          },
          "metadata": {},
          "execution_count": 126
        },
        {
          "output_type": "display_data",
          "data": {
            "text/plain": [
              "<Figure size 1440x576 with 1 Axes>"
            ],
            "image/png": "[encoded data removed]"
          },
          "metadata": {
            "needs_background": "light"
          }
        }
      ],
      "source": [
        "hour_c.plot.bar(figsize=(20,8))\n",
        "plt.ylabel(\"Number of accidents\")\n",
        "plt.title(\"Distribution of Hourly Accidents of 1999 to 2001 in Canada\")"
      ]
    },
    {
      "cell_type": "markdown",
      "metadata": {
        "id": "i8vuE4oTBY5R"
      },
      "source": [
        "- Obviously, the midnight has fewer accidents happen than usual.\n",
        "\n",
        "- 15:00 to 17:59 reaches the peak of traffic accidents, which is reasonable since it is usual the evening rush hour."
      ]
    },
    {
      "cell_type": "markdown",
      "metadata": {
        "id": "lF4QKKoaCP1-"
      },
      "source": [
        "### 3. Does bad weather affect traffic accident rate?"
      ]
    },
    {
      "cell_type": "code",
      "execution_count": 127,
      "metadata": {
        "id": "jWJZW5OVD1UB"
      },
      "outputs": [],
      "source": [
        "weather = data['C_WTHR'].value_counts().sort_index()\n",
        "weather = weather.to_frame()\n",
        "weather.index= ['Clear and sunny',\n",
        "         'Overcast, cloudy but no precipitation',\n",
        "         'Raining',\n",
        "         'Snowing',\n",
        "         'Freezing rain, sleet, hail',\n",
        "         'Visibility limitation(e.g. fog)',\n",
        "         'Strong wind']"
      ]
    },
    {
      "cell_type": "code",
      "execution_count": 128,
      "metadata": {
        "id": "q7qnLgAeE6Xh",
        "colab": {
          "base_uri": "https://localhost:8080/",
          "height": 692
        },
        "outputId": "b7216f88-f163-429a-d7fa-6bcbbca2f69a"
      },
      "outputs": [
        {
          "output_type": "execute_result",
          "data": {
            "text/plain": [
              "Text(0.5, 1.0, 'Distribution of accidents based on weather')"
            ]
          },
          "metadata": {},
          "execution_count": 128
        },
        {
          "output_type": "display_data",
          "data": {
            "text/plain": [
              "<Figure size 1008x576 with 1 Axes>"
            ],
            "image/png": "[encoded data removed]"
          },
          "metadata": {
            "needs_background": "light"
          }
        }
      ],
      "source": [
        "weather.plot.bar(figsize=(14,8))\n",
        "plt.ylabel(\"Number of accidents\")\n",
        "plt.title(\"Distribution of accidents based on weather\")"
      ]
    },
    {
      "cell_type": "markdown",
      "metadata": {
        "id": "semXcxskFrrG"
      },
      "source": [
        "- Bad weather will not largely affect the accident rate. We need to be careful of traffic accident everyday."
      ]
    },
    {
      "cell_type": "markdown",
      "metadata": {
        "id": "IAQ3ILJGGe6J"
      },
      "source": [
        "### 4. Does road surface affect traffic accident rate?"
      ]
    },
    {
      "cell_type": "code",
      "execution_count": 129,
      "metadata": {
        "id": "3WBMy0jYGlNT"
      },
      "outputs": [],
      "source": [
        "rsurf = data['C_RSUR'].value_counts().sort_index()\n",
        "rsurf = rsurf.to_frame()\n",
        "rsurf.index= ['Dry, normal', 'Wet', 'Snow',\n",
        "         'Slush', 'Icy', 'Sand',\n",
        "         'Muddy', 'Oil', 'Flooded']"
      ]
    },
    {
      "cell_type": "code",
      "execution_count": 130,
      "metadata": {
        "id": "q80cFP3iHh8S",
        "colab": {
          "base_uri": "https://localhost:8080/",
          "height": 566
        },
        "outputId": "583bc0e1-86ff-425b-da3a-d7ecf988d912"
      },
      "outputs": [
        {
          "output_type": "execute_result",
          "data": {
            "text/plain": [
              "Text(0.5, 1.0, 'Distribution of accidents based on road surface')"
            ]
          },
          "metadata": {},
          "execution_count": 130
        },
        {
          "output_type": "display_data",
          "data": {
            "text/plain": [
              "<Figure size 1440x576 with 1 Axes>"
            ],
            "image/png": "[encoded data removed]"
          },
          "metadata": {
            "needs_background": "light"
          }
        }
      ],
      "source": [
        "rsurf.plot.bar(figsize=(20,8))\n",
        "plt.ylabel(\"Number of accidents\")\n",
        "plt.title(\"Distribution of accidents based on road surface\")"
      ]
    },
    {
      "cell_type": "markdown",
      "metadata": {
        "id": "WYUXOnlLJGY4"
      },
      "source": [
        "### 5. Was the Safety Equipment used by the people involved?"
      ]
    },
    {
      "cell_type": "code",
      "execution_count": 131,
      "metadata": {
        "id": "XQfwDF0wJN-2",
        "colab": {
          "base_uri": "https://localhost:8080/",
          "height": 269
        },
        "outputId": "4bf4caa7-416a-464b-98d1-bd7d7bbaaab8"
      },
      "outputs": [
        {
          "output_type": "execute_result",
          "data": {
            "text/plain": [
              "    P_SAFE\n",
              "1    44312\n",
              "2   740125\n",
              "9    11432\n",
              "10      29\n",
              "11       4\n",
              "12    1349\n",
              "13   30885"
            ],
            "text/html": [
              "\n",
              "  <div id=\"df-24be84b9-5865-4e9d-9a88-de06e7ce091f\">\n",
              "    <div class=\"colab-df-container\">\n",
              "      <div>\n",
              "<style scoped>\n",
              "    .dataframe tbody tr th:only-of-type {\n",
              "        vertical-align: middle;\n",
              "    }\n",
              "\n",
              "    .dataframe tbody tr th {\n",
              "        vertical-align: top;\n",
              "    }\n",
              "\n",
              "    .dataframe thead th {\n",
              "        text-align: right;\n",
              "    }\n",
              "</style>\n",
              "<table border=\"1\" class=\"dataframe\">\n",
              "  <thead>\n",
              "    <tr style=\"text-align: right;\">\n",
              "      <th></th>\n",
              "      <th>P_SAFE</th>\n",
              "    </tr>\n",
              "  </thead>\n",
              "  <tbody>\n",
              "    <tr>\n",
              "      <th>1</th>\n",
              "      <td>44312</td>\n",
              "    </tr>\n",
              "    <tr>\n",
              "      <th>2</th>\n",
              "      <td>740125</td>\n",
              "    </tr>\n",
              "    <tr>\n",
              "      <th>9</th>\n",
              "      <td>11432</td>\n",
              "    </tr>\n",
              "    <tr>\n",
              "      <th>10</th>\n",
              "      <td>29</td>\n",
              "    </tr>\n",
              "    <tr>\n",
              "      <th>11</th>\n",
              "      <td>4</td>\n",
              "    </tr>\n",
              "    <tr>\n",
              "      <th>12</th>\n",
              "      <td>1349</td>\n",
              "    </tr>\n",
              "    <tr>\n",
              "      <th>13</th>\n",
              "      <td>30885</td>\n",
              "    </tr>\n",
              "  </tbody>\n",
              "</table>\n",
              "</div>\n",
              "      <button class=\"colab-df-convert\" onclick=\"convertToInteractive('df-24be84b9-5865-4e9d-9a88-de06e7ce091f')\"\n",
              "              title=\"Convert this dataframe to an interactive table.\"\n",
              "              style=\"display:none;\">\n",
              "        \n",
              "  <svg xmlns=\"http://www.w3.org/2000/svg\" height=\"24px\"viewBox=\"0 0 24 24\"\n",
              "       width=\"24px\">\n",
              "    <path d=\"M0 0h24v24H0V0z\" fill=\"none\"/>\n",
              "    <path d=\"M18.56 5.44l.94 2.06.94-2.06 2.06-.94-2.06-.94-.94-2.06-.94 2.06-2.06.94zm-11 1L8.5 8.5l.94-2.06 2.06-.94-2.06-.94L8.5 2.5l-.94 2.06-2.06.94zm10 10l.94 2.06.94-2.06 2.06-.94-2.06-.94-.94-2.06-.94 2.06-2.06.94z\"/><path d=\"M17.41 7.96l-1.37-1.37c-.4-.4-.92-.59-1.43-.59-.52 0-1.04.2-1.43.59L10.3 9.45l-7.72 7.72c-.78.78-.78 2.05 0 2.83L4 21.41c.39.39.9.59 1.41.59.51 0 1.02-.2 1.41-.59l7.78-7.78 2.81-2.81c.8-.78.8-2.07 0-2.86zM5.41 20L4 18.59l7.72-7.72 1.47 1.35L5.41 20z\"/>\n",
              "  </svg>\n",
              "      </button>\n",
              "      \n",
              "  <style>\n",
              "    .colab-df-container {\n",
              "      display:flex;\n",
              "      flex-wrap:wrap;\n",
              "      gap: 12px;\n",
              "    }\n",
              "\n",
              "    .colab-df-convert {\n",
              "      background-color: #E8F0FE;\n",
              "      border: none;\n",
              "      border-radius: 50%;\n",
              "      cursor: pointer;\n",
              "      display: none;\n",
              "      fill: #1967D2;\n",
              "      height: 32px;\n",
              "      padding: 0 0 0 0;\n",
              "      width: 32px;\n",
              "    }\n",
              "\n",
              "    .colab-df-convert:hover {\n",
              "      background-color: #E2EBFA;\n",
              "      box-shadow: 0px 1px 2px rgba(60, 64, 67, 0.3), 0px 1px 3px 1px rgba(60, 64, 67, 0.15);\n",
              "      fill: #174EA6;\n",
              "    }\n",
              "\n",
              "    [theme=dark] .colab-df-convert {\n",
              "      background-color: #3B4455;\n",
              "      fill: #D2E3FC;\n",
              "    }\n",
              "\n",
              "    [theme=dark] .colab-df-convert:hover {\n",
              "      background-color: #434B5C;\n",
              "      box-shadow: 0px 1px 3px 1px rgba(0, 0, 0, 0.15);\n",
              "      filter: drop-shadow(0px 1px 2px rgba(0, 0, 0, 0.3));\n",
              "      fill: #FFFFFF;\n",
              "    }\n",
              "  </style>\n",
              "\n",
              "      <script>\n",
              "        const buttonEl =\n",
              "          document.querySelector('#df-24be84b9-5865-4e9d-9a88-de06e7ce091f button.colab-df-convert');\n",
              "        buttonEl.style.display =\n",
              "          google.colab.kernel.accessAllowed ? 'block' : 'none';\n",
              "\n",
              "        async function convertToInteractive(key) {\n",
              "          const element = document.querySelector('#df-24be84b9-5865-4e9d-9a88-de06e7ce091f');\n",
              "          const dataTable =\n",
              "            await google.colab.kernel.invokeFunction('convertToInteractive',\n",
              "                                                     [key], {});\n",
              "          if (!dataTable) return;\n",
              "\n",
              "          const docLinkHtml = 'Like what you see? Visit the ' +\n",
              "            '<a target=\"_blank\" href=https://colab.research.google.com/notebooks/data_table.ipynb>data table notebook</a>'\n",
              "            + ' to learn more about interactive tables.';\n",
              "          element.innerHTML = '';\n",
              "          dataTable['output_type'] = 'display_data';\n",
              "          await google.colab.output.renderOutput(dataTable, element);\n",
              "          const docLink = document.createElement('div');\n",
              "          docLink.innerHTML = docLinkHtml;\n",
              "          element.appendChild(docLink);\n",
              "        }\n",
              "      </script>\n",
              "    </div>\n",
              "  </div>\n",
              "  "
            ]
          },
          "metadata": {},
          "execution_count": 131
        }
      ],
      "source": [
        "safe_equi = data['P_SAFE'].value_counts().sort_index()\n",
        "safe_equi = safe_equi.to_frame()\n",
        "safe_equi"
      ]
    },
    {
      "cell_type": "code",
      "execution_count": 132,
      "metadata": {
        "id": "1wZ5b3CqJTST",
        "colab": {
          "base_uri": "https://localhost:8080/",
          "height": 715
        },
        "outputId": "a43ed392-e253-4c40-b1ae-177e90145d79"
      },
      "outputs": [
        {
          "output_type": "execute_result",
          "data": {
            "text/plain": [
              "Text(0.5, 1.0, 'Distribution of Safety Device Usage')"
            ]
          },
          "metadata": {},
          "execution_count": 132
        },
        {
          "output_type": "display_data",
          "data": {
            "text/plain": [
              "<Figure size 1440x576 with 1 Axes>"
            ],
            "image/png": "[encoded data removed]"
          },
          "metadata": {
            "needs_background": "light"
          }
        }
      ],
      "source": [
        "safe_equi.index= ['No safety device used', \n",
        "          'Safety device used or child restraint used',\n",
        "          'Helmet worn',\n",
        "          'Reflective clothing worn',\n",
        "          'Both helmet and reflective clothing used',\n",
        "          'Other safety device used',\n",
        "          'No safety device equipped']\n",
        "safe_equi.plot.bar(figsize=(20,8))\n",
        "plt.ylabel(\"Number of accidents\")\n",
        "plt.title(\"Distribution of Safety Device Usage\")"
      ]
    },
    {
      "cell_type": "markdown",
      "metadata": {
        "id": "44AccXGcKhXL"
      },
      "source": [
        "- Most people were wearing the safety device."
      ]
    },
    {
      "cell_type": "markdown",
      "metadata": {
        "id": "cP1NEkZmOfjB"
      },
      "source": [
        "# Conclusion & Next steps"
      ]
    },
    {
      "cell_type": "markdown",
      "metadata": {
        "id": "1F9VAPh2N6nD"
      },
      "source": [
        "Using RandomForest, XGBoost and Prophet modeled separately, plus drawing some histograms, we have been able to obtain a lot of performance. However, there is still room for improvement.\n",
        "\n",
        "In future, we can visualize the maximum differences returned by the models and try to understand them to extract more insights and consider new variables/transformations to be performed on the data.\n",
        "If the data had more than just days of the week, but dates as well, I am sure our predictions would be much better.\n"
      ]
    }
  ],
  "metadata": {
    "colab": {
      "collapsed_sections": [],
      "name": "project.ipynb",
      "provenance": [],
      "toc_visible": true
    },
    "kernelspec": {
      "display_name": "Python 3",
      "name": "python3"
    },
    "language_info": {
      "name": "python"
    }
  },
  "nbformat": 4,
  "nbformat_minor": 0
}